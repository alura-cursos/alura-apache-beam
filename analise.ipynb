{
 "metadata": {
  "language_info": {
   "codemirror_mode": {
    "name": "ipython",
    "version": 3
   },
   "file_extension": ".py",
   "mimetype": "text/x-python",
   "name": "python",
   "nbconvert_exporter": "python",
   "pygments_lexer": "ipython3",
   "version": "3.7.9"
  },
  "orig_nbformat": 2,
  "kernelspec": {
   "name": "python37964bit68d157b541504a1daf71429342c74c19",
   "display_name": "Python 3.7.9 64-bit",
   "language": "python"
  }
 },
 "nbformat": 4,
 "nbformat_minor": 2,
 "cells": [
  {
   "cell_type": "code",
   "execution_count": 11,
   "metadata": {},
   "outputs": [],
   "source": [
    "import pandas as pd"
   ]
  },
  {
   "cell_type": "code",
   "execution_count": 14,
   "metadata": {},
   "outputs": [],
   "source": [
    "arquivo = 'resultado-00000-of-00001.csv'\n",
    "df = pd.read_csv(arquivo, delimiter=';')"
   ]
  },
  {
   "cell_type": "code",
   "execution_count": 20,
   "metadata": {},
   "outputs": [
    {
     "output_type": "execute_result",
     "data": {
      "text/plain": [
       "    UF   ANO        CHUVA        DENGUE\n",
       "0   CE  2015   771.783333   5014.250000\n",
       "1   CE  2016   533.700000   5433.083333\n",
       "2   CE  2017   775.350000   5519.666667\n",
       "3   CE  2018   797.950000   1070.083333\n",
       "4   CE  2019   809.000000   2559.250000\n",
       "5   ES  2015   575.650000   3734.000000\n",
       "6   ES  2016   733.916667   4560.750000\n",
       "7   ES  2017   903.883333   1028.666667\n",
       "8   ES  2018  1399.166667   1407.500000\n",
       "9   ES  2019  1122.350000   6716.083333\n",
       "10  MG  2015  4450.616667   1815.083333\n",
       "11  MG  2016  5683.166667   6530.500000\n",
       "12  MG  2017  4960.900000    290.333333\n",
       "13  MG  2018  6893.000000    127.000000\n",
       "14  MG  2019  5649.400000   2234.583333\n",
       "15  PR  2015  2987.816667   8077.416667\n",
       "16  PR  2016  2751.066667  17536.333333\n",
       "17  PR  2017  3438.383333   2324.416667\n",
       "18  PR  2018  2706.800000   1589.166667\n",
       "19  PR  2019  2758.900000   9431.916667\n",
       "20  RJ  2015  1436.566667   5989.916667\n",
       "21  RJ  2016  2153.850000   6922.750000\n",
       "22  RJ  2017  1979.583333   1071.083333\n",
       "23  RJ  2018  2975.133333   1509.083333\n",
       "24  RJ  2019  3298.983333   2388.833333\n",
       "25  RS  2015  5655.183333     60.833333\n",
       "26  RS  2016  4823.083333      1.500000\n",
       "27  RS  2017  6137.083333     21.916667\n",
       "28  RS  2018  5610.366667      0.583333\n",
       "29  RS  2019  5801.616667    112.916667\n",
       "30  SP  2015  3877.283333   3232.916667\n",
       "31  SP  2016  3378.183333   2368.583333\n",
       "32  SP  2017  4127.866667    311.500000\n",
       "33  SP  2018  4131.783333    437.000000\n",
       "34  SP  2019  4206.300000   6702.250000"
      ],
      "text/html": "<div>\n<style scoped>\n    .dataframe tbody tr th:only-of-type {\n        vertical-align: middle;\n    }\n\n    .dataframe tbody tr th {\n        vertical-align: top;\n    }\n\n    .dataframe thead th {\n        text-align: right;\n    }\n</style>\n<table border=\"1\" class=\"dataframe\">\n  <thead>\n    <tr style=\"text-align: right;\">\n      <th></th>\n      <th>UF</th>\n      <th>ANO</th>\n      <th>CHUVA</th>\n      <th>DENGUE</th>\n    </tr>\n  </thead>\n  <tbody>\n    <tr>\n      <th>0</th>\n      <td>CE</td>\n      <td>2015</td>\n      <td>771.783333</td>\n      <td>5014.250000</td>\n    </tr>\n    <tr>\n      <th>1</th>\n      <td>CE</td>\n      <td>2016</td>\n      <td>533.700000</td>\n      <td>5433.083333</td>\n    </tr>\n    <tr>\n      <th>2</th>\n      <td>CE</td>\n      <td>2017</td>\n      <td>775.350000</td>\n      <td>5519.666667</td>\n    </tr>\n    <tr>\n      <th>3</th>\n      <td>CE</td>\n      <td>2018</td>\n      <td>797.950000</td>\n      <td>1070.083333</td>\n    </tr>\n    <tr>\n      <th>4</th>\n      <td>CE</td>\n      <td>2019</td>\n      <td>809.000000</td>\n      <td>2559.250000</td>\n    </tr>\n    <tr>\n      <th>5</th>\n      <td>ES</td>\n      <td>2015</td>\n      <td>575.650000</td>\n      <td>3734.000000</td>\n    </tr>\n    <tr>\n      <th>6</th>\n      <td>ES</td>\n      <td>2016</td>\n      <td>733.916667</td>\n      <td>4560.750000</td>\n    </tr>\n    <tr>\n      <th>7</th>\n      <td>ES</td>\n      <td>2017</td>\n      <td>903.883333</td>\n      <td>1028.666667</td>\n    </tr>\n    <tr>\n      <th>8</th>\n      <td>ES</td>\n      <td>2018</td>\n      <td>1399.166667</td>\n      <td>1407.500000</td>\n    </tr>\n    <tr>\n      <th>9</th>\n      <td>ES</td>\n      <td>2019</td>\n      <td>1122.350000</td>\n      <td>6716.083333</td>\n    </tr>\n    <tr>\n      <th>10</th>\n      <td>MG</td>\n      <td>2015</td>\n      <td>4450.616667</td>\n      <td>1815.083333</td>\n    </tr>\n    <tr>\n      <th>11</th>\n      <td>MG</td>\n      <td>2016</td>\n      <td>5683.166667</td>\n      <td>6530.500000</td>\n    </tr>\n    <tr>\n      <th>12</th>\n      <td>MG</td>\n      <td>2017</td>\n      <td>4960.900000</td>\n      <td>290.333333</td>\n    </tr>\n    <tr>\n      <th>13</th>\n      <td>MG</td>\n      <td>2018</td>\n      <td>6893.000000</td>\n      <td>127.000000</td>\n    </tr>\n    <tr>\n      <th>14</th>\n      <td>MG</td>\n      <td>2019</td>\n      <td>5649.400000</td>\n      <td>2234.583333</td>\n    </tr>\n    <tr>\n      <th>15</th>\n      <td>PR</td>\n      <td>2015</td>\n      <td>2987.816667</td>\n      <td>8077.416667</td>\n    </tr>\n    <tr>\n      <th>16</th>\n      <td>PR</td>\n      <td>2016</td>\n      <td>2751.066667</td>\n      <td>17536.333333</td>\n    </tr>\n    <tr>\n      <th>17</th>\n      <td>PR</td>\n      <td>2017</td>\n      <td>3438.383333</td>\n      <td>2324.416667</td>\n    </tr>\n    <tr>\n      <th>18</th>\n      <td>PR</td>\n      <td>2018</td>\n      <td>2706.800000</td>\n      <td>1589.166667</td>\n    </tr>\n    <tr>\n      <th>19</th>\n      <td>PR</td>\n      <td>2019</td>\n      <td>2758.900000</td>\n      <td>9431.916667</td>\n    </tr>\n    <tr>\n      <th>20</th>\n      <td>RJ</td>\n      <td>2015</td>\n      <td>1436.566667</td>\n      <td>5989.916667</td>\n    </tr>\n    <tr>\n      <th>21</th>\n      <td>RJ</td>\n      <td>2016</td>\n      <td>2153.850000</td>\n      <td>6922.750000</td>\n    </tr>\n    <tr>\n      <th>22</th>\n      <td>RJ</td>\n      <td>2017</td>\n      <td>1979.583333</td>\n      <td>1071.083333</td>\n    </tr>\n    <tr>\n      <th>23</th>\n      <td>RJ</td>\n      <td>2018</td>\n      <td>2975.133333</td>\n      <td>1509.083333</td>\n    </tr>\n    <tr>\n      <th>24</th>\n      <td>RJ</td>\n      <td>2019</td>\n      <td>3298.983333</td>\n      <td>2388.833333</td>\n    </tr>\n    <tr>\n      <th>25</th>\n      <td>RS</td>\n      <td>2015</td>\n      <td>5655.183333</td>\n      <td>60.833333</td>\n    </tr>\n    <tr>\n      <th>26</th>\n      <td>RS</td>\n      <td>2016</td>\n      <td>4823.083333</td>\n      <td>1.500000</td>\n    </tr>\n    <tr>\n      <th>27</th>\n      <td>RS</td>\n      <td>2017</td>\n      <td>6137.083333</td>\n      <td>21.916667</td>\n    </tr>\n    <tr>\n      <th>28</th>\n      <td>RS</td>\n      <td>2018</td>\n      <td>5610.366667</td>\n      <td>0.583333</td>\n    </tr>\n    <tr>\n      <th>29</th>\n      <td>RS</td>\n      <td>2019</td>\n      <td>5801.616667</td>\n      <td>112.916667</td>\n    </tr>\n    <tr>\n      <th>30</th>\n      <td>SP</td>\n      <td>2015</td>\n      <td>3877.283333</td>\n      <td>3232.916667</td>\n    </tr>\n    <tr>\n      <th>31</th>\n      <td>SP</td>\n      <td>2016</td>\n      <td>3378.183333</td>\n      <td>2368.583333</td>\n    </tr>\n    <tr>\n      <th>32</th>\n      <td>SP</td>\n      <td>2017</td>\n      <td>4127.866667</td>\n      <td>311.500000</td>\n    </tr>\n    <tr>\n      <th>33</th>\n      <td>SP</td>\n      <td>2018</td>\n      <td>4131.783333</td>\n      <td>437.000000</td>\n    </tr>\n    <tr>\n      <th>34</th>\n      <td>SP</td>\n      <td>2019</td>\n      <td>4206.300000</td>\n      <td>6702.250000</td>\n    </tr>\n  </tbody>\n</table>\n</div>"
     },
     "metadata": {},
     "execution_count": 20
    }
   ],
   "source": [
    "df.groupby(['UF', 'ANO'])[['CHUVA','DENGUE']].mean().reset_index()"
   ]
  }
 ]
}